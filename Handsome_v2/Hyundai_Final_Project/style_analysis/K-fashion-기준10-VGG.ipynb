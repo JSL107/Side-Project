{
 "cells": [
  {
   "cell_type": "code",
   "execution_count": 1,
   "id": "4ad10a13",
   "metadata": {},
   "outputs": [],
   "source": [
    "# import os           #파일접근\n",
    "# import glob         #파일 나열을위한\n",
    "# import numpy as np              # 다차원 배열, 수학함수\n",
    "# import matplotlib.pyplot as plt   #데이터 시각화 = 그래프 패키지\n",
    "# import pandas as pd     #데이터를 저장하고 처리하는 패키지\n",
    "# import json         # json\n",
    "# import base64 \n",
    "# %matplotlib inline\n",
    "\n",
    "# import tensorflow as tf\n",
    "# from tensorflow.keras import datasets\n",
    "# from tensorflow.keras import layers\n",
    "# from tensorflow.keras import models\n",
    "\n",
    "# from keras.preprocessing.image import load_img\n",
    "# from keras.preprocessing.image import img_to_array\n",
    "# from keras.applications.vgg16 import preprocess_input\n",
    "# from keras.applications.vgg16 import decode_predictions\n",
    "# from keras.applications.vgg16 import VGG16\n",
    "\n",
    "\n",
    "# from tensorflow.keras.models import load_model\n",
    "# from PIL import Image  # 이미지 클래스 사용\n",
    "\n",
    "# # 숫자 -> One-hot Vector 를 위한 라이브러리\n",
    "# from keras.utils import np_utils\n"
   ]
  },
  {
   "cell_type": "code",
   "execution_count": 2,
   "id": "a44c49ec",
   "metadata": {},
   "outputs": [],
   "source": [
    "from sklearn.model_selection import train_test_split\n",
    "from keras.models import Sequential\n",
    "from keras.layers import Conv2D, MaxPooling2D, Dense, Flatten, Dropout\n",
    "from keras.callbacks import EarlyStopping, ModelCheckpoint\n",
    "import matplotlib.pyplot as plt\n",
    "from keras.backend import set_session as K\n",
    "import tensorflow as tf\n",
    "from keras import regularizers\n",
    "from keras import layers, models\n",
    "from keras.applications import VGG16\n",
    "from keras import Input\n",
    "from keras.models import Model\n",
    "from keras import optimizers, initializers, regularizers, metrics\n",
    "from keras.callbacks import ModelCheckpoint\n",
    "import os\n",
    "from glob import glob\n",
    "from PIL import Image\n",
    "import numpy as np\n",
    "\n",
    "# # 숫자 -> One-hot Vector 를 위한 라이브러리\n",
    "from keras.utils import np_utils\n"
   ]
  },
  {
   "cell_type": "markdown",
   "id": "d03e4665",
   "metadata": {},
   "source": [
    "### 데이터 load"
   ]
  },
  {
   "cell_type": "code",
   "execution_count": 3,
   "id": "220b3752",
   "metadata": {},
   "outputs": [],
   "source": [
    "labels = [ '트래디셔널', '매니시', '페미닌', '에스닉','컴템포러리',\n",
    "          '내추럴', '젠더플루이드', '스포티', '서브컬쳐','캐주얼']"
   ]
  },
  {
   "cell_type": "markdown",
   "id": "90c2feec",
   "metadata": {},
   "source": [
    "#####  전처리"
   ]
  },
  {
   "cell_type": "code",
   "execution_count": 4,
   "id": "52534bae",
   "metadata": {},
   "outputs": [
    {
     "name": "stdout",
     "output_type": "stream",
     "text": [
      "내추럴\n",
      "5\n",
      "매니시\n",
      "1\n",
      "서브컬쳐\n",
      "8\n",
      "스포티\n",
      "7\n",
      "에스닉\n",
      "3\n",
      "젠더플루이드\n",
      "6\n",
      "캐주얼\n",
      "9\n",
      "컴템포러리\n",
      "4\n",
      "트래디셔널\n",
      "0\n",
      "페미닌\n",
      "2\n"
     ]
    }
   ],
   "source": [
    "# 이미지 데이터 준비\n",
    "width=224\n",
    "height=224\n",
    "x_train=[]\n",
    "x_test=[]\n",
    "y_train=[]\n",
    "y_test=[]\n",
    "cnt=0\n",
    "path1='./K-Fashion/Training/원천데이터-기준10/'\n",
    "for style in os.listdir(path1):\n",
    "    path2=path1+style\n",
    "    cnt=0\n",
    "    print(style)\n",
    "    styleN = labels.index(style)\n",
    "    print(styleN)\n",
    "    for img in os.listdir(path2):\n",
    "        cnt=cnt+1\n",
    "        path3=path2+'/'+img\n",
    "        image=Image.open(path3)\n",
    "        image = image.resize((width,height), resample=0) # 사이즈 조정 \n",
    "        image_array = np.array(image) \n",
    "        if cnt <= 3000 :\n",
    "            x_train.append(image_array)\n",
    "            y_train.append(styleN)\n",
    "        elif 3000 < cnt and cnt <= 3500:\n",
    "            x_test.append(image_array)\n",
    "            y_test.append(styleN)\n"
   ]
  },
  {
   "cell_type": "code",
   "execution_count": 5,
   "id": "39c7160d",
   "metadata": {},
   "outputs": [],
   "source": [
    "# # 정답\n",
    "# y_train=[]\n",
    "# y_test=[]\n",
    "# cnt=0\n",
    "# path1='./K-Fashion/Training/라벨링데이터1/'\n",
    "# for style in os.listdir(path1):\n",
    "#     path2=path1+style\n",
    "#     cnt=0\n",
    "#     print(style)\n",
    "#     for json in os.listdir(path2):\n",
    "#         cnt=cnt+1\n",
    "#         path3=path2+'/'+json\n",
    "        \n",
    "#         if cnt < 2 :\n",
    "#             print(json)\n",
    "# #             y_train.append(image_array)\n",
    "# #         elif 500 <= cnt and cnt < 1000:\n",
    "# #             y_test.append(image_array)\n",
    "\n"
   ]
  },
  {
   "cell_type": "code",
   "execution_count": 6,
   "id": "6baac0bd",
   "metadata": {},
   "outputs": [
    {
     "data": {
      "text/plain": [
       "(26000,)"
      ]
     },
     "execution_count": 6,
     "metadata": {},
     "output_type": "execute_result"
    }
   ],
   "source": [
    "x_train=np.array(x_train)\n",
    "y_train=np.array(y_train)\n",
    "x_test=np.array(x_test)\n",
    "y_test=np.array(y_test)\n",
    "y_train.shape"
   ]
  },
  {
   "cell_type": "code",
   "execution_count": 7,
   "id": "17b88fd3",
   "metadata": {},
   "outputs": [],
   "source": [
    "# Loss의 스케일 조정을 위해 0 ~ 255 -> 0 ~ 1 범위로 만들어줍니다\n",
    "x_train = x_train.astype('float32') / 255.0\n",
    "x_test = x_test.astype('float32') / 255.0\n",
    "# One-Hot Encoding (숫자 -> One-Hot Vector) \n",
    "y_train = np_utils.to_categorical(y_train)\n",
    "y_test = np_utils.to_categorical(y_test)\n",
    "# y의 최대값이 나오게된다\n",
    "# [손흔드는 라이언] [오후 4:08] 아 현재 y의 값(라벨)이 3이라서\n",
    "# [손흔드는 라이언] [오후 4:09] 0,1,2,3 이렇게 4개로 분류한다고\n",
    "# [손흔드는 라이언] [오후 4:09] 되는걸까요?"
   ]
  },
  {
   "cell_type": "code",
   "execution_count": 8,
   "id": "137cc42d",
   "metadata": {},
   "outputs": [
    {
     "data": {
      "text/plain": [
       "((26000, 224, 224, 3), (26000, 10))"
      ]
     },
     "execution_count": 8,
     "metadata": {},
     "output_type": "execute_result"
    }
   ],
   "source": [
    "x_train.shape, y_train.shape"
   ]
  },
  {
   "cell_type": "markdown",
   "id": "1ed49dd1",
   "metadata": {},
   "source": [
    "####  d"
   ]
  },
  {
   "cell_type": "markdown",
   "id": "a77cc0ef",
   "metadata": {},
   "source": [
    "### 모델"
   ]
  },
  {
   "cell_type": "code",
   "execution_count": 9,
   "id": "eb1c4747",
   "metadata": {},
   "outputs": [],
   "source": [
    "# channel = 3\n",
    "\n",
    "# # 모델 설정\n",
    "# # 순차적 모델을 만들기 위한 Sequential() 함수\n",
    "# model = models.Sequential()\n",
    "# # filters : Kernel 그룹의 갯수 / kernel_size : Kernel 크기\n",
    "# model.add(layers.Conv2D(32, kernel_size=(3, 3), padding='same', activation='relu', \n",
    "#                  input_shape=(width, height, 3)))\n",
    "# model.add(layers.Conv2D(32, (3,3), padding='same',activation='relu'))\n",
    "# model.add(layers.MaxPooling2D((2,2)))\n",
    "# # model.add(layers.Dropout(0.2))\n",
    "\n",
    "# model.add(layers.Conv2D(32, (3,3), padding='same',activation='relu'))\n",
    "# model.add(layers.Conv2D(32, (3,3), padding='same',activation='relu'))\n",
    "# model.add(layers.MaxPooling2D((2,2)))\n",
    "# # model.add(layers.Dropout(0.2))\n",
    "# model.add(layers.Conv2D(32, (3,3), padding='same',activation='relu'))\n",
    "# model.add(layers.Conv2D(32, (3,3), padding='same',activation='relu'))\n",
    "# model.add(layers.MaxPooling2D((2,2)))\n",
    "# # N차원 배열을 1차원으로 펴줍니다\n",
    "# model.add(layers.Flatten())\n",
    "# # model.add(layers.Dense(64, activation='relu'))\n",
    "# # 출력층 MLP  # y 종류수 \n",
    "# model.add(layers.Dense(10,activation='softmax'))\n",
    "\n",
    "# model.summary()"
   ]
  },
  {
   "cell_type": "code",
   "execution_count": 10,
   "id": "47462623",
   "metadata": {},
   "outputs": [
    {
     "name": "stdout",
     "output_type": "stream",
     "text": [
      "Model: \"vgg16\"\n",
      "_________________________________________________________________\n",
      " Layer (type)                Output Shape              Param #   \n",
      "=================================================================\n",
      " input_1 (InputLayer)        [(None, 224, 224, 3)]     0         \n",
      "                                                                 \n",
      " block1_conv1 (Conv2D)       (None, 224, 224, 64)      1792      \n",
      "                                                                 \n",
      " block1_conv2 (Conv2D)       (None, 224, 224, 64)      36928     \n",
      "                                                                 \n",
      " block1_pool (MaxPooling2D)  (None, 112, 112, 64)      0         \n",
      "                                                                 \n",
      " block2_conv1 (Conv2D)       (None, 112, 112, 128)     73856     \n",
      "                                                                 \n",
      " block2_conv2 (Conv2D)       (None, 112, 112, 128)     147584    \n",
      "                                                                 \n",
      " block2_pool (MaxPooling2D)  (None, 56, 56, 128)       0         \n",
      "                                                                 \n",
      " block3_conv1 (Conv2D)       (None, 56, 56, 256)       295168    \n",
      "                                                                 \n",
      " block3_conv2 (Conv2D)       (None, 56, 56, 256)       590080    \n",
      "                                                                 \n",
      " block3_conv3 (Conv2D)       (None, 56, 56, 256)       590080    \n",
      "                                                                 \n",
      " block3_pool (MaxPooling2D)  (None, 28, 28, 256)       0         \n",
      "                                                                 \n",
      " block4_conv1 (Conv2D)       (None, 28, 28, 512)       1180160   \n",
      "                                                                 \n",
      " block4_conv2 (Conv2D)       (None, 28, 28, 512)       2359808   \n",
      "                                                                 \n",
      " block4_conv3 (Conv2D)       (None, 28, 28, 512)       2359808   \n",
      "                                                                 \n",
      " block4_pool (MaxPooling2D)  (None, 14, 14, 512)       0         \n",
      "                                                                 \n",
      " block5_conv1 (Conv2D)       (None, 14, 14, 512)       2359808   \n",
      "                                                                 \n",
      " block5_conv2 (Conv2D)       (None, 14, 14, 512)       2359808   \n",
      "                                                                 \n",
      " block5_conv3 (Conv2D)       (None, 14, 14, 512)       2359808   \n",
      "                                                                 \n",
      " block5_pool (MaxPooling2D)  (None, 7, 7, 512)         0         \n",
      "                                                                 \n",
      "=================================================================\n",
      "Total params: 14,714,688\n",
      "Trainable params: 0\n",
      "Non-trainable params: 14,714,688\n",
      "_________________________________________________________________\n"
     ]
    },
    {
     "name": "stderr",
     "output_type": "stream",
     "text": [
      "C:\\ProgramData\\Anaconda3\\lib\\site-packages\\keras\\optimizers\\optimizer_v2\\rmsprop.py:143: UserWarning: The `lr` argument is deprecated, use `learning_rate` instead.\n",
      "  super().__init__(name, **kwargs)\n"
     ]
    }
   ],
   "source": [
    "input_tensor = Input(shape=(width, height, 3), dtype='float32', name='input')\n",
    "\n",
    "#vgg16 모델 불러오기\n",
    "pre_trained_vgg = VGG16(weights='imagenet', include_top=False, input_shape=(width, height, 3))\n",
    "pre_trained_vgg.trainable = False\n",
    "pre_trained_vgg.summary()\n",
    "\n",
    "#vgg16 밑에 레이어 추가\n",
    "additional_model = models.Sequential()\n",
    "additional_model.add(pre_trained_vgg)\n",
    "additional_model.add(layers.Flatten())\n",
    "additional_model.add(layers.Dense(4096, kernel_regularizer = regularizers.l1_l2\n",
    "                                  (l1=0.001,l2=0.001),activation='relu'))\n",
    "additional_model.add(layers.Dropout(0.5))\n",
    "additional_model.add(layers.Dense(2048, kernel_regularizer = regularizers.l1_l2\n",
    "                                  (l1=0.001,l2=0.001),activation='relu'))\n",
    "additional_model.add(layers.Dropout(0.5))\n",
    "additional_model.add(layers.Dense(1024, kernel_regularizer = regularizers.l1_l2\n",
    "                                  (l1=0.001,l2=0.001),activation='relu'))\n",
    "additional_model.add(layers.Dropout(0.5))\n",
    "additional_model.add(layers.Dense(10, activation='softmax')) # 카테고리수\n",
    "\n",
    "additional_model.compile(loss='binary_crossentropy',\n",
    "              optimizer=optimizers.RMSprop(lr=1e-4),\n",
    "              metrics=['acc'])"
   ]
  },
  {
   "cell_type": "code",
   "execution_count": 11,
   "id": "a929193c",
   "metadata": {},
   "outputs": [],
   "source": [
    "# model.compile(loss='categorical_crossentropy', \n",
    "#               optimizer='sgd', \n",
    "#               metrics=['accuracy'])"
   ]
  },
  {
   "cell_type": "code",
   "execution_count": 12,
   "id": "16e852c9",
   "metadata": {},
   "outputs": [],
   "source": [
    "# 100개 에폭 10, 배치 16  5시 45분 "
   ]
  },
  {
   "cell_type": "code",
   "execution_count": 13,
   "id": "ad6557f0",
   "metadata": {},
   "outputs": [],
   "source": [
    "# hist = model.fit(x_train, y_train,\n",
    "#                  epochs=10,\n",
    "#                  batch_size=16,\n",
    "#                  validation_data=(x_test, y_test),\n",
    "#                 verbose=1,\n",
    "#                 shuffle=True)"
   ]
  },
  {
   "cell_type": "code",
   "execution_count": null,
   "id": "00bddbf8",
   "metadata": {},
   "outputs": [
    {
     "name": "stdout",
     "output_type": "stream",
     "text": [
      "Epoch 1/10\n",
      "1625/1625 [==============================] - 5746s 4s/step - loss: 38.0451 - acc: 0.1134 - val_loss: 6.0181 - val_acc: 0.0000e+00\n",
      "Epoch 2/10\n",
      "1335/1625 [=======================>......] - ETA: 17:53 - loss: 5.9934 - acc: 0.1139"
     ]
    }
   ],
   "source": [
    "history = additional_model.fit(x_train, y_train, \n",
    "                    batch_size=16, \n",
    "                    epochs=10, \n",
    "                    validation_data=(x_test, y_test))"
   ]
  },
  {
   "cell_type": "code",
   "execution_count": null,
   "id": "8d3b5ade",
   "metadata": {},
   "outputs": [],
   "source": [
    "acc = history.history['acc']\n",
    "val_acc = history.history['val_acc']\n",
    "loss = history.history['loss']\n",
    "val_loss = history.history['val_loss']\n",
    "\n",
    "epochs = range(len(acc))\n",
    "\n",
    "plt.plot(epochs, acc, 'bo', label='Training acc')\n",
    "plt.plot(epochs, val_acc, 'b', label='Validation acc')\n",
    "plt.title('Training and validation accuracy')\n",
    "plt.legend()\n",
    "\n",
    "plt.figure()\n",
    "\n",
    "plt.plot(epochs, loss, 'bo', label='Training loss')\n",
    "plt.plot(epochs, val_loss, 'b', label='Validation loss')\n",
    "plt.title('Training and validation loss')\n",
    "plt.legend()\n",
    "\n",
    "plt.show()"
   ]
  },
  {
   "cell_type": "code",
   "execution_count": null,
   "id": "e59197f4",
   "metadata": {},
   "outputs": [],
   "source": []
  },
  {
   "cell_type": "code",
   "execution_count": null,
   "id": "8bfe8fd7",
   "metadata": {},
   "outputs": [],
   "source": []
  },
  {
   "cell_type": "code",
   "execution_count": null,
   "id": "c3c720da",
   "metadata": {},
   "outputs": [],
   "source": []
  },
  {
   "cell_type": "code",
   "execution_count": null,
   "id": "04ee64a8",
   "metadata": {},
   "outputs": [],
   "source": []
  },
  {
   "cell_type": "code",
   "execution_count": null,
   "id": "e9f7de2f",
   "metadata": {},
   "outputs": [],
   "source": []
  },
  {
   "cell_type": "code",
   "execution_count": null,
   "id": "ab0624eb",
   "metadata": {},
   "outputs": [],
   "source": []
  },
  {
   "cell_type": "code",
   "execution_count": null,
   "id": "78bff93a",
   "metadata": {},
   "outputs": [],
   "source": []
  },
  {
   "cell_type": "code",
   "execution_count": null,
   "id": "a41f3f2f",
   "metadata": {},
   "outputs": [],
   "source": []
  },
  {
   "cell_type": "code",
   "execution_count": null,
   "id": "2785df01",
   "metadata": {},
   "outputs": [],
   "source": []
  },
  {
   "cell_type": "code",
   "execution_count": null,
   "id": "63b950e4",
   "metadata": {},
   "outputs": [],
   "source": []
  },
  {
   "cell_type": "code",
   "execution_count": null,
   "id": "366b29ca",
   "metadata": {},
   "outputs": [],
   "source": []
  },
  {
   "cell_type": "code",
   "execution_count": null,
   "id": "861397c0",
   "metadata": {},
   "outputs": [],
   "source": []
  },
  {
   "cell_type": "code",
   "execution_count": null,
   "id": "3e869d12",
   "metadata": {},
   "outputs": [],
   "source": []
  }
 ],
 "metadata": {
  "kernelspec": {
   "display_name": "Python 3 (ipykernel)",
   "language": "python",
   "name": "python3"
  },
  "language_info": {
   "codemirror_mode": {
    "name": "ipython",
    "version": 3
   },
   "file_extension": ".py",
   "mimetype": "text/x-python",
   "name": "python",
   "nbconvert_exporter": "python",
   "pygments_lexer": "ipython3",
   "version": "3.9.15"
  }
 },
 "nbformat": 4,
 "nbformat_minor": 5
}
