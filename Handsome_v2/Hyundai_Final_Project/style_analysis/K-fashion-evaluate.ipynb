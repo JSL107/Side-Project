{
 "cells": [
  {
   "cell_type": "code",
   "execution_count": 21,
   "id": "4ad10a13",
   "metadata": {},
   "outputs": [],
   "source": [
    "import os           #파일접근\n",
    "import glob         #파일 나열을위한\n",
    "import numpy as np              # 다차원 배열, 수학함수\n",
    "import matplotlib.pyplot as plt   #데이터 시각화 = 그래프 패키지\n",
    "import pandas as pd     #데이터를 저장하고 처리하는 패키지\n",
    "import json         # json\n",
    "import base64 \n",
    "%matplotlib inline\n",
    "\n",
    "import tensorflow as tf\n",
    "from tensorflow.keras import datasets\n",
    "from tensorflow.keras import layers\n",
    "from tensorflow.keras import models\n",
    "\n",
    "from tensorflow.keras.models import load_model\n",
    "from PIL import Image  # 이미지 클래스 사용\n",
    "\n",
    "# 숫자 -> One-hot Vector 를 위한 라이브러리\n",
    "from keras.utils import np_utils\n"
   ]
  },
  {
   "cell_type": "markdown",
   "id": "d03e4665",
   "metadata": {},
   "source": [
    "### 데이터 load"
   ]
  },
  {
   "cell_type": "code",
   "execution_count": 22,
   "id": "220b3752",
   "metadata": {},
   "outputs": [],
   "source": [
    "# 10 개\n",
    "# labels = [ '내추럴', '매니시', '서브컬쳐', '스포티','에스닉',\n",
    "#           '젠더플루이드', '캐주얼', '컨템포러리', '트래디셔널','페미닌'] \n",
    "\n",
    "# 7개\n",
    "labels = ['매니시', '서브컬쳐', '스포티','에스닉',\n",
    "           '캐주얼', '트래디셔널','페미닌']"
   ]
  },
  {
   "cell_type": "markdown",
   "id": "90c2feec",
   "metadata": {},
   "source": [
    "#####  전처리"
   ]
  },
  {
   "cell_type": "code",
   "execution_count": 40,
   "id": "52534bae",
   "metadata": {},
   "outputs": [
    {
     "name": "stdout",
     "output_type": "stream",
     "text": [
      "매니시\n",
      "0\n",
      "서브컬쳐\n",
      "1\n",
      "스포티\n",
      "2\n",
      "에스닉\n",
      "3\n",
      "캐주얼\n",
      "4\n",
      "트래디셔널\n",
      "5\n",
      "페미닌\n",
      "6\n"
     ]
    }
   ],
   "source": [
    "# 이미지 데이터 준비\n",
    "x_test=[]\n",
    "y_test=[]\n",
    "cnt=0\n",
    "path1='./K-Fashion/Training/원천데이터-기준10/'\n",
    "for style in os.listdir(path1):\n",
    "    \n",
    "    if style in labels :\n",
    "        path2=path1+style\n",
    "        print(style)\n",
    "        styleN = labels.index(style)\n",
    "        print(styleN)\n",
    "        cnt=0\n",
    "        for img in os.listdir(path2):\n",
    "            cnt=cnt+1\n",
    "            path3=path2+'/'+img\n",
    "            image=Image.open(path3)\n",
    "            image = image.resize((224,224), resample=0) # 사이즈 조정 \n",
    "            image_array = np.array(image) \n",
    "            if cnt < 200:\n",
    "                x_test.append(image_array)\n",
    "                y_test.append(styleN)\n"
   ]
  },
  {
   "cell_type": "code",
   "execution_count": 41,
   "id": "6baac0bd",
   "metadata": {},
   "outputs": [
    {
     "name": "stderr",
     "output_type": "stream",
     "text": [
      "C:\\Users\\kosa\\AppData\\Local\\Temp\\ipykernel_20332\\4025242699.py:3: VisibleDeprecationWarning: Creating an ndarray from ragged nested sequences (which is a list-or-tuple of lists-or-tuples-or ndarrays with different lengths or shapes) is deprecated. If you meant to do this, you must specify 'dtype=object' when creating the ndarray.\n",
      "  x_test=np.array(x_test)\n"
     ]
    },
    {
     "data": {
      "text/plain": [
       "((1393,), (1393,))"
      ]
     },
     "execution_count": 41,
     "metadata": {},
     "output_type": "execute_result"
    }
   ],
   "source": [
    "# x_train=np.array(x_train)\n",
    "# y_train=np.array(y_train)\n",
    "x_test=np.array(x_test)\n",
    "y_test=np.array(y_test)\n",
    "x_test.shape, y_test.shape"
   ]
  },
  {
   "cell_type": "code",
   "execution_count": 42,
   "id": "17b88fd3",
   "metadata": {},
   "outputs": [
    {
     "ename": "ValueError",
     "evalue": "setting an array element with a sequence.",
     "output_type": "error",
     "traceback": [
      "\u001b[1;31m---------------------------------------------------------------------------\u001b[0m",
      "\u001b[1;31mTypeError\u001b[0m                                 Traceback (most recent call last)",
      "\u001b[1;31mTypeError\u001b[0m: only size-1 arrays can be converted to Python scalars",
      "\nThe above exception was the direct cause of the following exception:\n",
      "\u001b[1;31mValueError\u001b[0m                                Traceback (most recent call last)",
      "\u001b[1;32m~\\AppData\\Local\\Temp\\ipykernel_20332\\657342165.py\u001b[0m in \u001b[0;36m<module>\u001b[1;34m\u001b[0m\n\u001b[0;32m      1\u001b[0m \u001b[1;31m# Loss의 스케일 조정을 위해 0 ~ 255 -> 0 ~ 1 범위로 만들어줍니다\u001b[0m\u001b[1;33m\u001b[0m\u001b[1;33m\u001b[0m\u001b[0m\n\u001b[0;32m      2\u001b[0m \u001b[1;31m# x_train = x_train.astype('float32') / 255.0\u001b[0m\u001b[1;33m\u001b[0m\u001b[1;33m\u001b[0m\u001b[0m\n\u001b[1;32m----> 3\u001b[1;33m \u001b[0mx_test\u001b[0m \u001b[1;33m=\u001b[0m \u001b[0mx_test\u001b[0m\u001b[1;33m.\u001b[0m\u001b[0mastype\u001b[0m\u001b[1;33m(\u001b[0m\u001b[1;34m'float32'\u001b[0m\u001b[1;33m)\u001b[0m \u001b[1;33m/\u001b[0m \u001b[1;36m255.0\u001b[0m\u001b[1;33m\u001b[0m\u001b[1;33m\u001b[0m\u001b[0m\n\u001b[0m\u001b[0;32m      4\u001b[0m \u001b[1;33m\u001b[0m\u001b[0m\n\u001b[0;32m      5\u001b[0m \u001b[1;31m# One-Hot Encoding (숫자 -> One-Hot Vector)\u001b[0m\u001b[1;33m\u001b[0m\u001b[1;33m\u001b[0m\u001b[0m\n",
      "\u001b[1;31mValueError\u001b[0m: setting an array element with a sequence."
     ]
    }
   ],
   "source": [
    "# Loss의 스케일 조정을 위해 0 ~ 255 -> 0 ~ 1 범위로 만들어줍니다\n",
    "# x_train = x_train.astype('float32') / 255.0\n",
    "x_test = x_test.astype('float32') / 255.0\n",
    "\n",
    "# One-Hot Encoding (숫자 -> One-Hot Vector) \n",
    "# y_train = np_utils.to_categorical(y_train)\n",
    "y_test = np_utils.to_categorical(y_test)\n",
    "\n",
    "# y의 최대값이 나오게된다\n",
    "# [손흔드는 라이언] [오후 4:08] 아 현재 y의 값(라벨)이 3이라서\n",
    "# [손흔드는 라이언] [오후 4:09] 0,1,2,3 이렇게 4개로 분류한다고\n",
    "# [손흔드는 라이언] [오후 4:09] 되는걸까요?"
   ]
  },
  {
   "cell_type": "code",
   "execution_count": null,
   "id": "137cc42d",
   "metadata": {},
   "outputs": [],
   "source": []
  },
  {
   "cell_type": "markdown",
   "id": "1ed49dd1",
   "metadata": {},
   "source": [
    "####  d"
   ]
  },
  {
   "cell_type": "markdown",
   "id": "a77cc0ef",
   "metadata": {},
   "source": [
    "### 모델"
   ]
  },
  {
   "cell_type": "code",
   "execution_count": null,
   "id": "eb1c4747",
   "metadata": {},
   "outputs": [],
   "source": [
    "# width = 224\n",
    "# height = 224\n",
    "# channel = 3\n",
    "\n",
    "# # 모델 설정\n",
    "# # 순차적 모델을 만들기 위한 Sequential() 함수\n",
    "# model = models.Sequential()\n",
    "# # filters : Kernel 그룹의 갯수 / kernel_size : Kernel 크기\n",
    "# model.add(layers.Conv2D(32, kernel_size=(3, 3), padding='same', activation='relu', \n",
    "#                  input_shape=(width, height, 3)))\n",
    "# model.add(layers.Conv2D(32, (3,3), padding='same',activation='relu'))\n",
    "# model.add(layers.MaxPooling2D((2,2)))\n",
    "# # model.add(layers.Dropout(0.2))\n",
    "\n",
    "# model.add(layers.Conv2D(32, (3,3), padding='same',activation='relu'))\n",
    "# model.add(layers.Conv2D(32, (3,3), padding='same',activation='relu'))\n",
    "# model.add(layers.MaxPooling2D((2,2)))\n",
    "# # model.add(layers.Dropout(0.2))\n",
    "# model.add(layers.Conv2D(32, (3,3), padding='same',activation='relu'))\n",
    "# model.add(layers.Conv2D(32, (3,3), padding='same',activation='relu'))\n",
    "# model.add(layers.MaxPooling2D((2,2)))\n",
    "# # N차원 배열을 1차원으로 펴줍니다\n",
    "# model.add(layers.Flatten())\n",
    "# model.add(layers.Dense(64, activation='relu'))\n",
    "# # 출력층 MLP  # y 종류수 \n",
    "# model.add(layers.Dense(10,activation='softmax'))\n",
    "\n",
    "# model.summary()"
   ]
  },
  {
   "cell_type": "code",
   "execution_count": null,
   "id": "47462623",
   "metadata": {},
   "outputs": [],
   "source": [
    "# # 모델불러오기\n",
    "from keras.models import load_model\n",
    "# model = load_model('keras_model318.h5')\n",
    "# model = load_model('keras_model1423.h5')\n",
    "model = load_model('keras_model4303-7.h5')"
   ]
  },
  {
   "cell_type": "code",
   "execution_count": null,
   "id": "a929193c",
   "metadata": {},
   "outputs": [],
   "source": [
    "model.compile(loss='categorical_crossentropy', \n",
    "              optimizer='sgd', \n",
    "              metrics=['accuracy'])"
   ]
  },
  {
   "cell_type": "code",
   "execution_count": null,
   "id": "e59197f4",
   "metadata": {},
   "outputs": [],
   "source": [
    "loss, acc = model.evaluate(x_test, y_test, verbose=1)"
   ]
  },
  {
   "cell_type": "code",
   "execution_count": null,
   "id": "8bfe8fd7",
   "metadata": {},
   "outputs": [],
   "source": [
    "# # 6. 모델 저장하기\n",
    "# from keras.models import load_model\n",
    "# model.save('kfashion_model.h5')"
   ]
  },
  {
   "cell_type": "code",
   "execution_count": null,
   "id": "c3c720da",
   "metadata": {},
   "outputs": [],
   "source": []
  },
  {
   "cell_type": "code",
   "execution_count": null,
   "id": "04ee64a8",
   "metadata": {},
   "outputs": [],
   "source": []
  },
  {
   "cell_type": "code",
   "execution_count": null,
   "id": "e9f7de2f",
   "metadata": {},
   "outputs": [],
   "source": []
  },
  {
   "cell_type": "code",
   "execution_count": null,
   "id": "ab0624eb",
   "metadata": {},
   "outputs": [],
   "source": []
  },
  {
   "cell_type": "code",
   "execution_count": null,
   "id": "78bff93a",
   "metadata": {},
   "outputs": [],
   "source": []
  },
  {
   "cell_type": "code",
   "execution_count": null,
   "id": "a41f3f2f",
   "metadata": {},
   "outputs": [],
   "source": []
  },
  {
   "cell_type": "code",
   "execution_count": null,
   "id": "2785df01",
   "metadata": {},
   "outputs": [],
   "source": []
  },
  {
   "cell_type": "code",
   "execution_count": null,
   "id": "63b950e4",
   "metadata": {},
   "outputs": [],
   "source": []
  },
  {
   "cell_type": "code",
   "execution_count": null,
   "id": "366b29ca",
   "metadata": {},
   "outputs": [],
   "source": []
  },
  {
   "cell_type": "code",
   "execution_count": null,
   "id": "861397c0",
   "metadata": {},
   "outputs": [],
   "source": []
  },
  {
   "cell_type": "code",
   "execution_count": null,
   "id": "3e869d12",
   "metadata": {},
   "outputs": [],
   "source": []
  },
  {
   "cell_type": "code",
   "execution_count": null,
   "id": "f8c49af1",
   "metadata": {},
   "outputs": [],
   "source": []
  },
  {
   "cell_type": "code",
   "execution_count": null,
   "id": "f25e71cd",
   "metadata": {},
   "outputs": [],
   "source": []
  }
 ],
 "metadata": {
  "kernelspec": {
   "display_name": "Python 3 (ipykernel)",
   "language": "python",
   "name": "python3"
  },
  "language_info": {
   "codemirror_mode": {
    "name": "ipython",
    "version": 3
   },
   "file_extension": ".py",
   "mimetype": "text/x-python",
   "name": "python",
   "nbconvert_exporter": "python",
   "pygments_lexer": "ipython3",
   "version": "3.9.15"
  }
 },
 "nbformat": 4,
 "nbformat_minor": 5
}
