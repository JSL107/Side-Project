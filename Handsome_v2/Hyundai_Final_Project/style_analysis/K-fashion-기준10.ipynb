{
 "cells": [
  {
   "cell_type": "code",
   "execution_count": 1,
   "id": "4ad10a13",
   "metadata": {},
   "outputs": [],
   "source": [
    "import os           #파일접근\n",
    "import glob         #파일 나열을위한\n",
    "import numpy as np              # 다차원 배열, 수학함수\n",
    "import matplotlib.pyplot as plt   #데이터 시각화 = 그래프 패키지\n",
    "import pandas as pd     #데이터를 저장하고 처리하는 패키지\n",
    "import json         # json\n",
    "import base64 \n",
    "%matplotlib inline\n",
    "\n",
    "import tensorflow as tf\n",
    "from tensorflow.keras import datasets\n",
    "from tensorflow.keras import layers\n",
    "from tensorflow.keras import models\n",
    "\n",
    "from tensorflow.keras.models import load_model\n",
    "from PIL import Image  # 이미지 클래스 사용\n",
    "\n",
    "# 숫자 -> One-hot Vector 를 위한 라이브러리\n",
    "from keras.utils import np_utils\n"
   ]
  },
  {
   "cell_type": "markdown",
   "id": "d03e4665",
   "metadata": {},
   "source": [
    "### 데이터 load"
   ]
  },
  {
   "cell_type": "code",
   "execution_count": 2,
   "id": "220b3752",
   "metadata": {},
   "outputs": [],
   "source": [
    "labels = [ '트래디셔널', '매니시', '페미닌', '에스닉','컴템포러리',\n",
    "          '내추럴', '젠더플루이드', '스포티', '서브컬쳐','캐주얼']"
   ]
  },
  {
   "cell_type": "code",
   "execution_count": 3,
   "id": "e018b6d5",
   "metadata": {},
   "outputs": [],
   "source": [
    "# labels = [ '레트로', '로맨틱', '리조트', '매니시','모던', '밀리터리',\n",
    "#          '섹시', '소피스트케이티드', '스트리트', '스포티', '아방가르드',\n",
    "#          '오리엔탈', '웨스턴', '젠더리스', '컨트리','클래식', '키치',\n",
    "#          '톰보이', '펑크', '페미닌', '프레피', '히피', '힙합']\n",
    "         "
   ]
  },
  {
   "cell_type": "markdown",
   "id": "90c2feec",
   "metadata": {},
   "source": [
    "#####  전처리"
   ]
  },
  {
   "cell_type": "code",
   "execution_count": 4,
   "id": "76352189",
   "metadata": {},
   "outputs": [],
   "source": [
    "# imageTest = Image.open('./K-Fashion/Training/원천데이터-기준10/내추럴/1155.jpg')\n",
    "# baseheight = 500\n",
    "# imageTest.size\n",
    "# hpercent = (baseheight/float(imgor.size[1]))\n",
    "#         wsize = int((float(imgor.size[0])*float(hpercent))) \n",
    "#         imgrs = imgor.resize((wsize, baseheight), Image.ANTIALIAS)\n",
    "\n",
    "\n"
   ]
  },
  {
   "cell_type": "code",
   "execution_count": 5,
   "id": "52534bae",
   "metadata": {},
   "outputs": [
    {
     "name": "stdout",
     "output_type": "stream",
     "text": [
      "내추럴\n",
      "5\n",
      "매니시\n",
      "1\n",
      "서브컬쳐\n",
      "8\n",
      "스포티\n",
      "7\n",
      "에스닉\n",
      "3\n",
      "젠더플루이드\n",
      "6\n",
      "캐주얼\n",
      "9\n",
      "컴템포러리\n",
      "4\n",
      "트래디셔널\n",
      "0\n",
      "페미닌\n",
      "2\n"
     ]
    }
   ],
   "source": [
    "# 이미지 데이터 준비\n",
    "x_train=[]\n",
    "x_test=[]\n",
    "y_train=[]\n",
    "y_test=[]\n",
    "cnt=0\n",
    "path1='./K-Fashion/Training/원천데이터-기준10/'\n",
    "for style in os.listdir(path1):\n",
    "    path2=path1+style\n",
    "    cnt=0\n",
    "    print(style)\n",
    "    styleN = labels.index(style)\n",
    "    print(styleN)\n",
    "    for img in os.listdir(path2):\n",
    "        cnt=cnt+1\n",
    "        path3=path2+'/'+img\n",
    "        image=Image.open(path3)\n",
    "        image = image.resize((250,250), resample=0) # 사이즈 조정 \n",
    "        image_array = np.array(image) \n",
    "        if cnt <= 3000 :\n",
    "            x_train.append(image_array)\n",
    "            y_train.append(styleN)\n",
    "        elif 3000 < cnt and cnt <= 3500:\n",
    "            x_test.append(image_array)\n",
    "            y_test.append(styleN)\n"
   ]
  },
  {
   "cell_type": "code",
   "execution_count": 6,
   "id": "39c7160d",
   "metadata": {},
   "outputs": [],
   "source": [
    "# # 정답\n",
    "# y_train=[]\n",
    "# y_test=[]\n",
    "# cnt=0\n",
    "# path1='./K-Fashion/Training/라벨링데이터1/'\n",
    "# for style in os.listdir(path1):\n",
    "#     path2=path1+style\n",
    "#     cnt=0\n",
    "#     print(style)\n",
    "#     for json in os.listdir(path2):\n",
    "#         cnt=cnt+1\n",
    "#         path3=path2+'/'+json\n",
    "        \n",
    "#         if cnt < 2 :\n",
    "#             print(json)\n",
    "# #             y_train.append(image_array)\n",
    "# #         elif 500 <= cnt and cnt < 1000:\n",
    "# #             y_test.append(image_array)\n",
    "\n"
   ]
  },
  {
   "cell_type": "code",
   "execution_count": 7,
   "id": "6baac0bd",
   "metadata": {},
   "outputs": [
    {
     "data": {
      "text/plain": [
       "(26000,)"
      ]
     },
     "execution_count": 7,
     "metadata": {},
     "output_type": "execute_result"
    }
   ],
   "source": [
    "x_train=np.array(x_train)\n",
    "y_train=np.array(y_train)\n",
    "x_test=np.array(x_test)\n",
    "y_test=np.array(y_test)\n",
    "y_train.shape"
   ]
  },
  {
   "cell_type": "code",
   "execution_count": 8,
   "id": "17b88fd3",
   "metadata": {},
   "outputs": [],
   "source": [
    "# Loss의 스케일 조정을 위해 0 ~ 255 -> 0 ~ 1 범위로 만들어줍니다\n",
    "x_train = x_train.astype('float32') / 255.0\n",
    "x_test = x_test.astype('float32') / 255.0\n",
    "# One-Hot Encoding (숫자 -> One-Hot Vector) \n",
    "y_train = np_utils.to_categorical(y_train)\n",
    "y_test = np_utils.to_categorical(y_test)\n",
    "# y의 최대값이 나오게된다\n",
    "# [손흔드는 라이언] [오후 4:08] 아 현재 y의 값(라벨)이 3이라서\n",
    "# [손흔드는 라이언] [오후 4:09] 0,1,2,3 이렇게 4개로 분류한다고\n",
    "# [손흔드는 라이언] [오후 4:09] 되는걸까요?"
   ]
  },
  {
   "cell_type": "code",
   "execution_count": 9,
   "id": "137cc42d",
   "metadata": {},
   "outputs": [
    {
     "data": {
      "text/plain": [
       "((26000, 250, 250, 3), (26000, 10))"
      ]
     },
     "execution_count": 9,
     "metadata": {},
     "output_type": "execute_result"
    }
   ],
   "source": [
    "x_train.shape, y_train.shape"
   ]
  },
  {
   "cell_type": "markdown",
   "id": "1ed49dd1",
   "metadata": {},
   "source": [
    "####  d"
   ]
  },
  {
   "cell_type": "markdown",
   "id": "a77cc0ef",
   "metadata": {},
   "source": [
    "### 모델"
   ]
  },
  {
   "cell_type": "code",
   "execution_count": 10,
   "id": "eb1c4747",
   "metadata": {},
   "outputs": [
    {
     "name": "stdout",
     "output_type": "stream",
     "text": [
      "Model: \"sequential\"\n",
      "_________________________________________________________________\n",
      " Layer (type)                Output Shape              Param #   \n",
      "=================================================================\n",
      " conv2d (Conv2D)             (None, 250, 250, 32)      896       \n",
      "                                                                 \n",
      " conv2d_1 (Conv2D)           (None, 250, 250, 32)      9248      \n",
      "                                                                 \n",
      " max_pooling2d (MaxPooling2D  (None, 125, 125, 32)     0         \n",
      " )                                                               \n",
      "                                                                 \n",
      " conv2d_2 (Conv2D)           (None, 125, 125, 32)      9248      \n",
      "                                                                 \n",
      " conv2d_3 (Conv2D)           (None, 125, 125, 32)      9248      \n",
      "                                                                 \n",
      " max_pooling2d_1 (MaxPooling  (None, 62, 62, 32)       0         \n",
      " 2D)                                                             \n",
      "                                                                 \n",
      " conv2d_4 (Conv2D)           (None, 62, 62, 32)        9248      \n",
      "                                                                 \n",
      " conv2d_5 (Conv2D)           (None, 62, 62, 32)        9248      \n",
      "                                                                 \n",
      " max_pooling2d_2 (MaxPooling  (None, 31, 31, 32)       0         \n",
      " 2D)                                                             \n",
      "                                                                 \n",
      " flatten (Flatten)           (None, 30752)             0         \n",
      "                                                                 \n",
      " dense (Dense)               (None, 10)                307530    \n",
      "                                                                 \n",
      "=================================================================\n",
      "Total params: 354,666\n",
      "Trainable params: 354,666\n",
      "Non-trainable params: 0\n",
      "_________________________________________________________________\n"
     ]
    }
   ],
   "source": [
    "width = 250\n",
    "height = 250\n",
    "channel = 3\n",
    "\n",
    "# 모델 설정\n",
    "# 순차적 모델을 만들기 위한 Sequential() 함수\n",
    "model = models.Sequential()\n",
    "# filters : Kernel 그룹의 갯수 / kernel_size : Kernel 크기\n",
    "model.add(layers.Conv2D(32, kernel_size=(3, 3), padding='same', activation='relu', \n",
    "                 input_shape=(width, height, 3)))\n",
    "model.add(layers.Conv2D(32, (3,3), padding='same',activation='relu'))\n",
    "model.add(layers.MaxPooling2D((2,2)))\n",
    "# model.add(layers.Dropout(0.2))\n",
    "\n",
    "model.add(layers.Conv2D(32, (3,3), padding='same',activation='relu'))\n",
    "model.add(layers.Conv2D(32, (3,3), padding='same',activation='relu'))\n",
    "model.add(layers.MaxPooling2D((2,2)))\n",
    "# model.add(layers.Dropout(0.2))\n",
    "model.add(layers.Conv2D(32, (3,3), padding='same',activation='relu'))\n",
    "model.add(layers.Conv2D(32, (3,3), padding='same',activation='relu'))\n",
    "model.add(layers.MaxPooling2D((2,2)))\n",
    "# N차원 배열을 1차원으로 펴줍니다\n",
    "model.add(layers.Flatten())\n",
    "# model.add(layers.Dense(64, activation='relu'))\n",
    "# 출력층 MLP  # y 종류수 \n",
    "model.add(layers.Dense(10,activation='softmax'))\n",
    "\n",
    "model.summary()"
   ]
  },
  {
   "cell_type": "code",
   "execution_count": null,
   "id": "47462623",
   "metadata": {},
   "outputs": [],
   "source": []
  },
  {
   "cell_type": "code",
   "execution_count": 11,
   "id": "a929193c",
   "metadata": {},
   "outputs": [],
   "source": [
    "model.compile(loss='categorical_crossentropy', \n",
    "              optimizer='sgd', \n",
    "              metrics=['accuracy'])"
   ]
  },
  {
   "cell_type": "code",
   "execution_count": 12,
   "id": "16e852c9",
   "metadata": {},
   "outputs": [],
   "source": [
    "# 100개 에폭 10, 배치 16  5시 45분 "
   ]
  },
  {
   "cell_type": "code",
   "execution_count": 13,
   "id": "ad6557f0",
   "metadata": {},
   "outputs": [
    {
     "name": "stdout",
     "output_type": "stream",
     "text": [
      "Epoch 1/10\n",
      "1625/1625 [==============================] - 2025s 1s/step - loss: 2.1792 - accuracy: 0.1989 - val_loss: 1.9131 - val_accuracy: 0.3407\n",
      "Epoch 2/10\n",
      "1625/1625 [==============================] - 2218s 1s/step - loss: 1.9643 - accuracy: 0.3040 - val_loss: 1.6696 - val_accuracy: 0.4060\n",
      "Epoch 3/10\n",
      "1625/1625 [==============================] - 2123s 1s/step - loss: 1.7737 - accuracy: 0.3788 - val_loss: 1.8295 - val_accuracy: 0.3760\n",
      "Epoch 4/10\n",
      "1625/1625 [==============================] - 1994s 1s/step - loss: 1.6295 - accuracy: 0.4326 - val_loss: 1.6784 - val_accuracy: 0.4287\n",
      "Epoch 5/10\n",
      "1625/1625 [==============================] - 1849s 1s/step - loss: 1.4761 - accuracy: 0.4910 - val_loss: 1.6962 - val_accuracy: 0.4320\n",
      "Epoch 6/10\n",
      "1625/1625 [==============================] - 2020s 1s/step - loss: 1.3045 - accuracy: 0.5512 - val_loss: 1.7936 - val_accuracy: 0.4140\n",
      "Epoch 7/10\n",
      "1625/1625 [==============================] - 2044s 1s/step - loss: 1.1105 - accuracy: 0.6200 - val_loss: 1.9209 - val_accuracy: 0.4267\n",
      "Epoch 8/10\n",
      "1625/1625 [==============================] - 1996s 1s/step - loss: 0.8980 - accuracy: 0.6936 - val_loss: 2.3930 - val_accuracy: 0.3220\n",
      "Epoch 9/10\n",
      "1625/1625 [==============================] - 2015s 1s/step - loss: 0.6934 - accuracy: 0.7658 - val_loss: 2.8211 - val_accuracy: 0.3533\n",
      "Epoch 10/10\n",
      "1625/1625 [==============================] - 1915s 1s/step - loss: 0.5246 - accuracy: 0.8248 - val_loss: 3.0489 - val_accuracy: 0.3227\n"
     ]
    }
   ],
   "source": [
    "hist = model.fit(x_train, y_train,\n",
    "                 epochs=10,\n",
    "                 batch_size=16,\n",
    "                 validation_data=(x_test, y_test),\n",
    "                verbose=1,\n",
    "                shuffle=True)"
   ]
  },
  {
   "cell_type": "code",
   "execution_count": 14,
   "id": "e59197f4",
   "metadata": {},
   "outputs": [
    {
     "name": "stdout",
     "output_type": "stream",
     "text": [
      "47/47 [==============================] - 29s 612ms/step - loss: 3.0489 - accuracy: 0.3227\n"
     ]
    }
   ],
   "source": [
    "loss, acc = model.evaluate(x_test, y_test, verbose=1)"
   ]
  },
  {
   "cell_type": "code",
   "execution_count": null,
   "id": "8bfe8fd7",
   "metadata": {},
   "outputs": [],
   "source": []
  },
  {
   "cell_type": "code",
   "execution_count": null,
   "id": "c3c720da",
   "metadata": {},
   "outputs": [],
   "source": []
  },
  {
   "cell_type": "code",
   "execution_count": null,
   "id": "04ee64a8",
   "metadata": {},
   "outputs": [],
   "source": []
  },
  {
   "cell_type": "code",
   "execution_count": null,
   "id": "e9f7de2f",
   "metadata": {},
   "outputs": [],
   "source": []
  },
  {
   "cell_type": "code",
   "execution_count": null,
   "id": "ab0624eb",
   "metadata": {},
   "outputs": [],
   "source": []
  },
  {
   "cell_type": "code",
   "execution_count": null,
   "id": "78bff93a",
   "metadata": {},
   "outputs": [],
   "source": []
  },
  {
   "cell_type": "code",
   "execution_count": null,
   "id": "a41f3f2f",
   "metadata": {},
   "outputs": [],
   "source": []
  },
  {
   "cell_type": "code",
   "execution_count": null,
   "id": "2785df01",
   "metadata": {},
   "outputs": [],
   "source": []
  },
  {
   "cell_type": "code",
   "execution_count": null,
   "id": "63b950e4",
   "metadata": {},
   "outputs": [],
   "source": []
  },
  {
   "cell_type": "code",
   "execution_count": null,
   "id": "366b29ca",
   "metadata": {},
   "outputs": [],
   "source": []
  },
  {
   "cell_type": "code",
   "execution_count": null,
   "id": "861397c0",
   "metadata": {},
   "outputs": [],
   "source": []
  },
  {
   "cell_type": "code",
   "execution_count": null,
   "id": "3e869d12",
   "metadata": {},
   "outputs": [],
   "source": []
  }
 ],
 "metadata": {
  "kernelspec": {
   "display_name": "Python 3 (ipykernel)",
   "language": "python",
   "name": "python3"
  },
  "language_info": {
   "codemirror_mode": {
    "name": "ipython",
    "version": 3
   },
   "file_extension": ".py",
   "mimetype": "text/x-python",
   "name": "python",
   "nbconvert_exporter": "python",
   "pygments_lexer": "ipython3",
   "version": "3.8.11"
  }
 },
 "nbformat": 4,
 "nbformat_minor": 5
}
